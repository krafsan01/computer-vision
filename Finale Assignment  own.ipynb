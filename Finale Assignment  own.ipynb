{
 "cells": [
  {
   "cell_type": "code",
   "execution_count": 1,
   "id": "11650cf4",
   "metadata": {},
   "outputs": [],
   "source": [
    "import numpy as np\n",
    "import pickle\n",
    "import matplotlib.pyplot as plt"
   ]
  },
  {
   "cell_type": "code",
   "execution_count": 2,
   "id": "2722e881",
   "metadata": {},
   "outputs": [],
   "source": [
    "file_path = \"./cifar-10-python/cifar-10-batches-py/\""
   ]
  },
  {
   "cell_type": "code",
   "execution_count": 3,
   "id": "bafc9308",
   "metadata": {},
   "outputs": [],
   "source": [
    "dictTrain = file_path + \"data_batch_1\"\n",
    "with open(dictTrain, 'rb') as fo:\n",
    "    dict = pickle.load(fo, encoding='latin1')\n",
    "dictTrain = dict\n",
    "dataTrain = dictTrain['data']\n",
    "labelTrain = dictTrain['labels']\n",
    "for i in range(2,6):\n",
    "    dictTrain = file_path+\"data_batch_\"+str(i)\n",
    "    with open(dictTrain, 'rb') as fo:\n",
    "        dict = pickle.load(fo, encoding='latin1')\n",
    "    dictTrain = dict    \n",
    "    dataTrain = np.vstack([dataTrain, dictTrain['data']])\n",
    "    labelTrain = np.hstack([labelTrain, dictTrain['labels']])\n",
    "\n",
    "dictTest = file_path + \"test_batch\"\n",
    "with open(dictTest, 'rb') as fo:\n",
    "    dict = pickle.load(fo, encoding='latin1')\n",
    "\n",
    "dictTest = dict\n",
    "\n",
    "dataTest = dictTest['data']\n",
    "labelTest = dictTest['labels']\n",
    "labelTest = np.array(labelTest)"
   ]
  },
  {
   "cell_type": "code",
   "execution_count": 4,
   "id": "f24db738",
   "metadata": {},
   "outputs": [],
   "source": [
    "# dataTrain[:1000,:]"
   ]
  },
  {
   "cell_type": "code",
   "execution_count": 5,
   "id": "6775b97c",
   "metadata": {},
   "outputs": [],
   "source": [
    "# labelTrain[:1000]"
   ]
  },
  {
   "cell_type": "markdown",
   "id": "e847873c",
   "metadata": {},
   "source": [
    "# L1"
   ]
  },
  {
   "cell_type": "code",
   "execution_count": 6,
   "id": "8481910b",
   "metadata": {},
   "outputs": [],
   "source": [
    "X_train, y_train = dataTrain[:1000,:] , labelTrain[:1000]"
   ]
  },
  {
   "cell_type": "code",
   "execution_count": 7,
   "id": "ca0120e9",
   "metadata": {},
   "outputs": [
    {
     "name": "stdout",
     "output_type": "stream",
     "text": [
      "length of x_train_folds 5\n",
      "X_train shape <class 'numpy.ndarray'>\n",
      "X_train len (200, 3072)\n"
     ]
    }
   ],
   "source": [
    "num_folds = 5\n",
    "k_choices = [1, 3, 5, 8, 10, 12, 15, 20, 50, 100]\n",
    "k_accuracy = {}\n",
    "X_train_folds = np.array_split(X_train, num_folds)\n",
    "y_train_folds = np.array_split(y_train, num_folds)\n",
    "print(\"length of x_train_folds\", len(X_train_folds))\n",
    "print(\"X_train shape\", type(X_train[0]))\n",
    "print(\"X_train len\", X_train_folds[0].shape)"
   ]
  },
  {
   "cell_type": "code",
   "execution_count": 8,
   "id": "3883b899",
   "metadata": {},
   "outputs": [
    {
     "name": "stdout",
     "output_type": "stream",
     "text": [
      "k = 1, accuracy = 0.135\n",
      "k = 1, accuracy = 0.155\n",
      "k = 1, accuracy = 0.235\n",
      "k = 1, accuracy = 0.210\n",
      "k = 1, accuracy = 0.245\n",
      "k = 3, accuracy = 0.145\n",
      "k = 3, accuracy = 0.165\n",
      "k = 3, accuracy = 0.205\n",
      "k = 3, accuracy = 0.160\n",
      "k = 3, accuracy = 0.210\n",
      "k = 5, accuracy = 0.110\n",
      "k = 5, accuracy = 0.125\n",
      "k = 5, accuracy = 0.215\n",
      "k = 5, accuracy = 0.190\n",
      "k = 5, accuracy = 0.205\n",
      "k = 8, accuracy = 0.125\n",
      "k = 8, accuracy = 0.135\n",
      "k = 8, accuracy = 0.205\n",
      "k = 8, accuracy = 0.195\n",
      "k = 8, accuracy = 0.150\n",
      "k = 10, accuracy = 0.145\n",
      "k = 10, accuracy = 0.160\n",
      "k = 10, accuracy = 0.205\n",
      "k = 10, accuracy = 0.195\n",
      "k = 10, accuracy = 0.185\n",
      "k = 12, accuracy = 0.135\n",
      "k = 12, accuracy = 0.130\n",
      "k = 12, accuracy = 0.215\n",
      "k = 12, accuracy = 0.190\n",
      "k = 12, accuracy = 0.190\n",
      "k = 15, accuracy = 0.130\n",
      "k = 15, accuracy = 0.140\n",
      "k = 15, accuracy = 0.205\n",
      "k = 15, accuracy = 0.210\n",
      "k = 15, accuracy = 0.210\n",
      "k = 20, accuracy = 0.110\n",
      "k = 20, accuracy = 0.150\n",
      "k = 20, accuracy = 0.210\n",
      "k = 20, accuracy = 0.205\n",
      "k = 20, accuracy = 0.205\n",
      "k = 50, accuracy = 0.115\n",
      "k = 50, accuracy = 0.130\n",
      "k = 50, accuracy = 0.170\n",
      "k = 50, accuracy = 0.190\n",
      "k = 50, accuracy = 0.160\n",
      "k = 100, accuracy = 0.110\n",
      "k = 100, accuracy = 0.125\n",
      "k = 100, accuracy = 0.135\n",
      "k = 100, accuracy = 0.190\n",
      "k = 100, accuracy = 0.120\n"
     ]
    }
   ],
   "source": [
    "for k in k_choices:\n",
    "    k_accuracy[k] = []\n",
    "    for index in range(num_folds):\n",
    "        X_te = X_train_folds[index]\n",
    "        y_te = y_train_folds[index]\n",
    "        \n",
    "        X_tr = np.reshape( np.array(X_train_folds[:index] + X_train_folds[index + 1:]),\n",
    "                                (int(X_train.shape[0] * (num_folds - 1) / num_folds), -1) )\n",
    "        y_tr = np.reshape(y_train_folds[:index] + y_train_folds[index + 1:],\n",
    "                              int(X_train.shape[0] * (num_folds - 1) / num_folds))\n",
    "        \n",
    "        \n",
    "        dists = np.zeros((X_te.shape[0],X_tr.shape[0]))\n",
    "\n",
    "        for i in range(X_te.shape[0]):\n",
    "            dists[i] = np.sum( np.abs(X_tr- X_te[i]), axis=1)        \n",
    "        \n",
    "        y_pred = np.zeros(dists.shape[0])\n",
    "        for i in range(dists.shape[0]):            \n",
    "            closest_y = y_tr[np.argsort(dists[i, :])[:k]]            \n",
    "            y_pred[i] = np.argmax(np.bincount(closest_y))\n",
    "        \n",
    "        \n",
    "        y_te_pred = y_pred\n",
    "        accuracy = np.mean(y_te_pred == y_te)\n",
    "        k_accuracy[k].append(accuracy)\n",
    "       \n",
    "for k, accuracylist in k_accuracy.items():\n",
    "    for accuracy in accuracylist:\n",
    "        print(\"k = %d, accuracy = %.3f\" % (k, accuracy))\n",
    "        \n",
    "    "
   ]
  },
  {
   "cell_type": "code",
   "execution_count": 9,
   "id": "612b82e6",
   "metadata": {},
   "outputs": [
    {
     "data": {
      "image/png": "[encoded data removed]",
      "text/plain": [
       "<Figure size 432x288 with 1 Axes>"
      ]
     },
     "metadata": {
      "needs_background": "light"
     },
     "output_type": "display_data"
    }
   ],
   "source": [
    "for k in k_choices:\n",
    "    accuracies = k_accuracy[k]\n",
    "    plt.scatter([k] * len(accuracies), accuracies)\n",
    "accuracies_mean = np.array([np.mean(v) for k, v in sorted(k_accuracy.items())])\n",
    "accuracies_std = np.array([np.std(v) for k, v in sorted(k_accuracy.items())])\n",
    "    \n",
    "plt.errorbar(k_choices, accuracies_mean, yerr=accuracies_std)\n",
    "plt.title('Cross-validation on k')\n",
    "plt.xlabel('k')\n",
    "plt.ylabel('Cross-validation accuracy')\n",
    "plt.show()\n"
   ]
  },
  {
   "cell_type": "code",
   "execution_count": null,
   "id": "054d33bc",
   "metadata": {},
   "outputs": [],
   "source": []
  }
 ],
 "metadata": {
  "kernelspec": {
   "display_name": "Python 3 (ipykernel)",
   "language": "python",
   "name": "python3"
  },
  "language_info": {
   "codemirror_mode": {
    "name": "ipython",
    "version": 3
   },
   "file_extension": ".py",
   "mimetype": "text/x-python",
   "name": "python",
   "nbconvert_exporter": "python",
   "pygments_lexer": "ipython3",
   "version": "3.9.7"
  }
 },
 "nbformat": 4,
 "nbformat_minor": 5
}
